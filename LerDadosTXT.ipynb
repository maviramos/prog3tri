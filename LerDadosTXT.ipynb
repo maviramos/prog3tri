{
 "cells": [
  {
   "cell_type": "code",
   "execution_count": 51,
   "id": "8f16a444-9bb2-4efb-86c0-8108abd57209",
   "metadata": {},
   "outputs": [],
   "source": [
    "import sqlite3\n",
    "from PIL import Image\n",
    "import io"
   ]
  },
  {
   "cell_type": "code",
   "execution_count": 53,
   "id": "d472a064-12c6-461f-899c-b41205006d75",
   "metadata": {},
   "outputs": [],
   "source": [
    "# Conectar ao banco de dados (ou criar se não existir)\n",
    "conn = sqlite3.connect('dados_animais.db')\n",
    "cursor = conn.cursor()"
   ]
  },
  {
   "cell_type": "code",
   "execution_count": 55,
   "id": "51272964-c77e-442e-8fcf-8dff5fb8c693",
   "metadata": {},
   "outputs": [
    {
     "data": {
      "text/plain": [
       "<sqlite3.Cursor at 0x1bfe7207f40>"
      ]
     },
     "execution_count": 55,
     "metadata": {},
     "output_type": "execute_result"
    }
   ],
   "source": [
    "# Criar a tabela com um campo BLOB para a foto (se ainda não existir)\n",
    "#comandoSQL = 'CREATE TABLE IF NOT EXISTS ANIMAL(ID_ANIMAL INTEGER PRIMARY KEY AUTOINCREMENT, NM_ANIMAL VARCHAR(200), QT_PESO_ANIMAL FLOAT, IM_FOTO BLOB)'\n",
    "comandoSQL = 'CREATE TABLE IF NOT EXISTS animais(id INTEGER PRIMARY KEY AUTOINCREMENT, nome VARCHAR(200) NOT NULL, peso FLOAT, foto BLOB)'\n",
    "cursor.execute(comandoSQL)\n"
   ]
  },
  {
   "cell_type": "code",
   "execution_count": 57,
   "id": "53857fb6-924f-4a09-a8dd-559159b697cf",
   "metadata": {},
   "outputs": [],
   "source": [
    "# Função para ler a imagem como binário\n",
    "def ler_imagem(caminho_foto):\n",
    "    with open(caminho_foto, 'rb') as file:\n",
    "        return file.read()\n"
   ]
  },
  {
   "cell_type": "code",
   "execution_count": 59,
   "id": "238ae87e-e725-4441-86a6-827ac6d16087",
   "metadata": {},
   "outputs": [],
   "source": [
    "\n",
    "\n",
    "# Função para ler o arquivo .txt e inserir dados no banco\n",
    "def ler_e_inserir_dados(caminho_arquivo):\n",
    "    with open(caminho_arquivo, 'r', encoding='utf-8') as file:\n",
    "        for linha in file:\n",
    "            linha = linha.strip()\n",
    "            if linha:  # Ignorar linhas vazias\n",
    "                nome, peso, caminho_foto = linha.split(';')\n",
    "                \n",
    "                # Carregar a imagem como BLOB\n",
    "                foto_blob = ler_imagem(caminho_foto)\n",
    "                \n",
    "                # Inserir dados no banco, incluindo a foto como BLOB\n",
    "                cursor.execute('INSERT INTO animais (nome, peso, foto) VALUES (?, ?, ?) ''', (nome, peso, foto_blob))\n",
    "        \n",
    "        conn.commit()\n",
    "        print(\"Dados e fotos inseridos com sucesso!\")\n"
   ]
  },
  {
   "cell_type": "code",
   "execution_count": 61,
   "id": "3b68be73-fed3-4687-8a7d-2fa4f2251de9",
   "metadata": {},
   "outputs": [],
   "source": [
    "#Função para Exibir Imagem\n",
    "def exibir_foto(in_blob):\n",
    "    imagem = Image.open(io.BytesIO(in_blob))\n",
    "    imagem.show()  # Exibe a imagem\n"
   ]
  },
  {
   "cell_type": "code",
   "execution_count": 63,
   "id": "47221deb-3b0e-40bd-8e56-9bdfee599d8b",
   "metadata": {},
   "outputs": [],
   "source": [
    "def listar_dados():\n",
    "    cursor.execute(\"SELECT nome, peso, foto FROM animais\")\n",
    "    registros = cursor.fetchall()\n",
    "    \n",
    "    for registro in registros:\n",
    "        nome, peso, foto_blob = registro\n",
    "        print(f\"Nome: {nome}, Peso: {peso}\")\n",
    "        \n",
    "        # Exibir a foto\n",
    "        if foto_blob:\n",
    "            exibir_foto(foto_blob)\n"
   ]
  },
  {
   "cell_type": "code",
   "execution_count": 65,
   "id": "e2e01433-4913-424c-8f53-33a40656f766",
   "metadata": {},
   "outputs": [
    {
     "name": "stdout",
     "output_type": "stream",
     "text": [
      "Dados e fotos inseridos com sucesso!\n",
      "Nome: stitch, Peso: 0.015\n",
      "Nome: selfie, Peso: 22.0\n",
      "Nome: mickey, Peso: 1200.45\n",
      "Nome: coletânia, Peso: 12.701\n"
     ]
    }
   ],
   "source": [
    "# Caminho do arquivo .txt\n",
    "caminho_arquivo = 'C:/Users/Suporte/Documents/vitoria/dados.txt'\n",
    "ler_e_inserir_dados(caminho_arquivo)\n",
    "\n",
    "#listar\n",
    "listar_dados()\n",
    "# Fechar a conexão\n",
    "conn.close()\n"
   ]
  },
  {
   "cell_type": "code",
   "execution_count": null,
   "id": "0250718e-bc61-44aa-aa2e-bed4eaf4903c",
   "metadata": {},
   "outputs": [],
   "source": []
  }
 ],
 "metadata": {
  "kernelspec": {
   "display_name": "Python 3 (ipykernel)",
   "language": "python",
   "name": "python3"
  },
  "language_info": {
   "codemirror_mode": {
    "name": "ipython",
    "version": 3
   },
   "file_extension": ".py",
   "mimetype": "text/x-python",
   "name": "python",
   "nbconvert_exporter": "python",
   "pygments_lexer": "ipython3",
   "version": "3.12.7"
  }
 },
 "nbformat": 4,
 "nbformat_minor": 5
}
